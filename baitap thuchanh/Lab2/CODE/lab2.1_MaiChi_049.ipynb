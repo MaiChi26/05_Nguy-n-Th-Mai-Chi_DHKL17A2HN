{
 "cells": [
  {
   "cell_type": "code",
   "execution_count": 1,
   "metadata": {},
   "outputs": [],
   "source": [
    "import numpy as np"
   ]
  },
  {
   "cell_type": "markdown",
   "metadata": {},
   "source": [
    "1.Tạo dữ liệu mô phỏng nhiệt độ "
   ]
  },
  {
   "cell_type": "code",
   "execution_count": 2,
   "metadata": {},
   "outputs": [
    {
     "data": {
      "text/plain": [
       "array([34.78, 25.99, 20.63, 16.55, 23.89, 24.46, 15.97, 18.27, 17.32,\n",
       "       27.55, 32.12, 28.  , 34.81, 24.41, 27.37, 20.65, 34.52, 28.46,\n",
       "       23.81, 20.79, 25.19, 17.25, 19.54, 24.57, 19.86, 22.76, 31.38,\n",
       "       16.49, 33.46, 19.5 ])"
      ]
     },
     "execution_count": 2,
     "metadata": {},
     "output_type": "execute_result"
    }
   ],
   "source": [
    "np.random.seed(45)\n",
    "nhiet_do = np.round(np.random.uniform(low=15.0, high=35.0, size=30), 2)\n",
    "nhiet_do"
   ]
  },
  {
   "cell_type": "markdown",
   "metadata": {},
   "source": [
    "Nhiệt độ trung bình\n"
   ]
  },
  {
   "cell_type": "code",
   "execution_count": 3,
   "metadata": {},
   "outputs": [
    {
     "name": "stdout",
     "output_type": "stream",
     "text": [
      "Nhiệt độ trung bình trong tháng: 24.345000000000002\n"
     ]
    }
   ],
   "source": [
    "print(\"Nhiệt độ trung bình trong tháng:\", nhiet_do.mean())"
   ]
  },
  {
   "cell_type": "markdown",
   "metadata": {},
   "source": [
    "2.phân tích xu hướng nhiệt độ "
   ]
  },
  {
   "cell_type": "code",
   "execution_count": 4,
   "metadata": {},
   "outputs": [
    {
     "name": "stdout",
     "output_type": "stream",
     "text": [
      "Nhiệt độ cao nhất trong ngày: 34.81\n",
      "Nhiệt độ thấp nhất trong ngày: 15.97\n",
      "Ngày có nhiệt độ cao nhất: 13\n",
      "Ngày có nhiệt độ thấp nhất: 7\n"
     ]
    }
   ],
   "source": [
    "print(\"Nhiệt độ cao nhất trong ngày:\", nhiet_do.max())\n",
    "print(\"Nhiệt độ thấp nhất trong ngày:\", nhiet_do.min())\n",
    "print(\"Ngày có nhiệt độ cao nhất:\", nhiet_do.argmax() +1 )\n",
    "print(\"Ngày có nhiệt độ thấp nhất:\", nhiet_do.argmin() +1)"
   ]
  },
  {
   "cell_type": "markdown",
   "metadata": {},
   "source": [
    "Thống kê sự chênh lệch nhiệt độ "
   ]
  },
  {
   "cell_type": "code",
   "execution_count": 5,
   "metadata": {},
   "outputs": [
    {
     "name": "stdout",
     "output_type": "stream",
     "text": [
      "Chênh lệch nhiệt độ cao nhất là: 16.970000000000002\n",
      "Ngày chênh lệch cao nhất 28\n"
     ]
    }
   ],
   "source": [
    "ngay_truoc = nhiet_do[:-1]\n",
    "ngay_sau = nhiet_do[1:]\n",
    "chenh_lech = ngay_sau - ngay_truoc\n",
    "dff_max = chenh_lech.argmax() +1 \n",
    "max_chenh_lech = chenh_lech[dff_max - 1]\n",
    "\n",
    "print(\"Chênh lệch nhiệt độ cao nhất là:\", max_chenh_lech)\n",
    "print(\"Ngày chênh lệch cao nhất\", dff_max)"
   ]
  },
  {
   "cell_type": "markdown",
   "metadata": {},
   "source": [
    "3.áp dụng Fancy Indexing "
   ]
  },
  {
   "cell_type": "code",
   "execution_count": 6,
   "metadata": {},
   "outputs": [
    {
     "name": "stdout",
     "output_type": "stream",
     "text": [
      "Nhiệt độ các ngày có nhiệt độ cao hơn 20°C: [22.49 34.01 29.64 26.97 32.32 27.02 29.16 34.4  31.65 21.08 25.5  23.64\n",
      " 20.82 27.24 20.84 22.33 24.12 30.7  25.28 26.85]\n",
      "Nhiệt độ các ngày 5, 10, 15, 20, 25: [18.12 29.16 18.64 20.82 24.12]\n",
      "Nhiệt độ các ngày cao hơn trung bình: [34.01 29.64 26.97 32.32 27.02 29.16 34.4  31.65 25.5  27.24 24.12 30.7\n",
      " 25.28 26.85]\n"
     ]
    }
   ],
   "source": [
    "nhiet_do_cao_hon_20 = nhiet_do[nhiet_do > 20]  \n",
    "nhiet_do_cac_ngay_cu_the = nhiet_do[[4, 9, 14, 19, 24]]  \n",
    "nhiet_do_tren_trung_binh = nhiet_do[nhiet_do > nhiet_do_trung_binh]  \n",
    "print(f\"Nhiệt độ các ngày có nhiệt độ cao hơn 20°C: {nhiet_do_cao_hon_20}\")\n",
    "print(f\"Nhiệt độ các ngày 5, 10, 15, 20, 25: {nhiet_do_cac_ngay_cu_the}\")\n",
    "print(f\"Nhiệt độ các ngày cao hơn trung bình: {nhiet_do_tren_trung_binh}\")"
   ]
  }
 ],
 "metadata": {
  "kernelspec": {
   "display_name": "Python 3",
   "language": "python",
   "name": "python3"
  },
  "language_info": {
   "codemirror_mode": {
    "name": "ipython",
    "version": 3
   },
   "file_extension": ".py",
   "mimetype": "text/x-python",
   "name": "python",
   "nbconvert_exporter": "python",
   "pygments_lexer": "ipython3",
   "version": "3.12.8"
  }
 },
 "nbformat": 4,
 "nbformat_minor": 2
}
