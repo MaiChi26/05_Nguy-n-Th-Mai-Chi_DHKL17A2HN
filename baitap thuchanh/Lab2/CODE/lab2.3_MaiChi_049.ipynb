{
 "cells": [
  {
   "cell_type": "code",
   "execution_count": 2,
   "metadata": {},
   "outputs": [],
   "source": [
    "import numpy as np"
   ]
  },
  {
   "cell_type": "markdown",
   "metadata": {},
   "source": [
    "1.Đọc dữ liệu từ tập tin efficiency.txt và shifts.txt"
   ]
  },
  {
   "cell_type": "code",
   "execution_count": 9,
   "metadata": {},
   "outputs": [
    {
     "data": {
      "text/plain": [
       "([94.0, 97.0, 114.0, 117.0, 117.0],\n",
       " ['Afternoon', 'Afternoon', 'Afternoon', 'Morning', 'Afternoon'])"
      ]
     },
     "execution_count": 9,
     "metadata": {},
     "output_type": "execute_result"
    }
   ],
   "source": [
    "path_1= 'C:\\\\DHKL17A2\\\\baitap thuchanh\\\\Lab2\\\\DATA\\\\efficiency.txt'\n",
    "path_2= 'C:\\\\DHKL17A2\\\\baitap thuchanh\\\\Lab2\\\\DATA\\\\shifts.txt'\n",
    "\n",
    "efficiency = []\n",
    "with open(path_1, 'r') as file:\n",
    "    for line in file:\n",
    "        efficiency.append(float(line.strip()))\n",
    "        \n",
    "shifts = []\n",
    "with open(path_2, 'r') as file:\n",
    "    for line in file:\n",
    "        shifts.append(line.strip())\n",
    "        \n",
    "efficiency[:5], shifts[:5]\n",
    "        \n",
    "        "
   ]
  },
  {
   "cell_type": "markdown",
   "metadata": {},
   "source": [
    "2.tạo numpy array np_shifts từ list shifts và kiểm tra dữ liệu "
   ]
  },
  {
   "cell_type": "code",
   "execution_count": 10,
   "metadata": {},
   "outputs": [
    {
     "data": {
      "text/plain": [
       "dtype('<U9')"
      ]
     },
     "execution_count": 10,
     "metadata": {},
     "output_type": "execute_result"
    }
   ],
   "source": [
    "import numpy as np\n",
    "np_shifts = np.array(shifts)\n",
    "np_shifts.dtype "
   ]
  },
  {
   "cell_type": "markdown",
   "metadata": {},
   "source": [
    "3.tạo numpy array np_efficiency từ list efficiency và kiểm tra dữ liệuliệu"
   ]
  },
  {
   "cell_type": "code",
   "execution_count": 11,
   "metadata": {},
   "outputs": [
    {
     "data": {
      "text/plain": [
       "dtype('float64')"
      ]
     },
     "execution_count": 11,
     "metadata": {},
     "output_type": "execute_result"
    }
   ],
   "source": [
    "np_efficiency = np.array(efficiency)\n",
    "np_efficiency.dtype"
   ]
  },
  {
   "cell_type": "markdown",
   "metadata": {},
   "source": [
    "4.tính toán hiệu suất trb của những nhân viên làm vào cả 'morning' "
   ]
  },
  {
   "cell_type": "code",
   "execution_count": 12,
   "metadata": {},
   "outputs": [
    {
     "data": {
      "text/plain": [
       "np.float64(96.8529411764706)"
      ]
     },
     "execution_count": 12,
     "metadata": {},
     "output_type": "execute_result"
    }
   ],
   "source": [
    "morning_mask= np_shifts == 'Morning'\n",
    "hieu_suat_morning = np_efficiency[morning_mask]\n",
    "\n",
    "hieu_suat_TB_morning = np.mean(hieu_suat_morning)\n",
    "hieu_suat_TB_morning"
   ]
  },
  {
   "cell_type": "markdown",
   "metadata": {},
   "source": [
    "5.Tính hiệu suất sản xuất trung bình của những nhân viên làm việc trong các ca khác (Không\n",
    "phải là 'Morning')"
   ]
  },
  {
   "cell_type": "code",
   "execution_count": 19,
   "metadata": {},
   "outputs": [
    {
     "name": "stdout",
     "output_type": "stream",
     "text": [
      "Hiệu suất trung bình ca không phải Morning: 98.93939393939394\n"
     ]
    }
   ],
   "source": [
    "non_morning_mask = np_shifts != \"Morning\"\n",
    "hieu_suat_non_morning = np_efficiency[non_morning_mask]\n",
    "hieu_suat_TB_non_morning = np.mean(hieu_suat_non_morning)\n",
    "print(\"Hiệu suất trung bình ca không phải Morning:\", hieu_suat_TB_non_morning)"
   ]
  },
  {
   "cell_type": "markdown",
   "metadata": {},
   "source": [
    "6.Tạo mảng dữ liệu có cấu trúc (Structure Array tự định nghĩa workers gồm 'shift' (kiểu\n",
    "văn bản U10) và 'efficiency' (kiểu 'float')"
   ]
  },
  {
   "cell_type": "code",
   "execution_count": 20,
   "metadata": {},
   "outputs": [
    {
     "name": "stdout",
     "output_type": "stream",
     "text": [
      "Workers data: [('Afternoon',  94.) ('Afternoon',  97.) ('Afternoon', 114.)\n",
      " ('Morning', 117.) ('Afternoon', 117.)]\n"
     ]
    }
   ],
   "source": [
    "dtype = [('shift','U10'),('efficiency', float)]\n",
    "\n",
    "#Tạo mảng có cấu trúc (structure array) từ dữ liệu hiệu suất và ca làm việc\n",
    "#Hàm zip được sử dụng để kết hipwj các phần tử từ hai danh sách.\n",
    "#(hoặc các cấu trúc dữ liệu tương tự) shifts và efficiency\n",
    "#Sau đó list sẽ chuyển đổi kết quả từ zip thành một danh sách --> np.array\n",
    "#thành mảng, Tham số dtype chỉ định kiểu dữ liệu cho mảng. \n",
    "\n",
    "dtype = [('shift', 'U10'), ('efficiency', 'float')]\n",
    "workers = np.array(list(zip(np_shifts, np_efficiency)), dtype=dtype)\n",
    "\n",
    "# Kiểm tra dữ liệu trong mảng cấu trúc\n",
    "print(\"Workers data:\", workers[:5])  # Hiển thị 5 phần tử đầu tiên"
   ]
  }
 ],
 "metadata": {
  "kernelspec": {
   "display_name": "Python 3",
   "language": "python",
   "name": "python3"
  },
  "language_info": {
   "codemirror_mode": {
    "name": "ipython",
    "version": 3
   },
   "file_extension": ".py",
   "mimetype": "text/x-python",
   "name": "python",
   "nbconvert_exporter": "python",
   "pygments_lexer": "ipython3",
   "version": "3.12.8"
  }
 },
 "nbformat": 4,
 "nbformat_minor": 2
}
